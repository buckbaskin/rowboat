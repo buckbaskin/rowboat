{
 "cells": [
  {
   "cell_type": "markdown",
   "metadata": {},
   "source": [
    "# Notes for Computational Fluid Dynamics\n",
    "\n",
    "The Basics with Applications by John D. Anderson Jr."
   ]
  },
  {
   "cell_type": "code",
   "execution_count": 3,
   "metadata": {},
   "outputs": [],
   "source": [
    "import numpy as np\n",
    "import scipy as sp\n",
    "from matplotlib import pyplot as plt "
   ]
  },
  {
   "cell_type": "markdown",
   "metadata": {},
   "source": [
    "## Pre-Thoughts\n",
    "\n",
    "### Principle components to balance\n",
    "1. Mass flow in/out of a unit\n",
    "2. Pressure exerted by surrounding units\n",
    "3. Fluid velocity\n",
    "4. 2 dimensional effects (flow in y affecting x)\n",
    "5. Boundary conditions for the entire model\n",
    "6. Defining the shape of an object to test\n",
    "7. Flow rotation?\n",
    "\n",
    "### Interesting Thoughts\n",
    "1. Data structure for efficiently sub-dividing the space where needed\n",
    "2. Iterative approximations of the solution\n",
    "3. Parallel evaluation\n",
    "4. Defining the shape of an object not as a cube so that I don't have to infinitely subdivide a cube/square\n",
    "5. How can I determine boundary conditions to evaluate when a unit has subdivided units on 1 or more sides?\n",
    "6. How can I determine when two units can be recombined into a larger evaluation unit to save future computation?\n",
    "\n",
    "### What are my inputs?\n",
    "- Defining a hull shape by blocks or otherwise would be \"faster\"\n",
    "- Defining a hull shape by mathematical functions might not work as well with a grid, but would allow for optimizations as a derivative of different parameters.\n",
    "\n",
    "### What are my outputs?\n",
    "- A heatmap of pressure?\n",
    "- Drag calculations?\n",
    "    - \"parasitic drag\": form drag, skin friction\n",
    "    - lift induced drag (planing hulls)\n",
    "    - wave drag/resistance at a fluid boundary [Wikipedia](https://en.wikipedia.org/wiki/Wave-making_resistance)\n",
    "        - \"For small displacement hulls, such as sailboats or rowboats, wave-making resistance is the major source of the marine vessel drag.\"\n",
    "        - I think this is a function of pressure build up, but I'd have to read more\n",
    "- Velocity vector visualization\n",
    "- Approximate particle paths. Probably more of an interesting visual than a useful tool, but idk. If I'm building the full pressure/velocity map, why not?\n",
    "- Visualization of the mesh used for the calculation"
   ]
  },
  {
   "cell_type": "markdown",
   "metadata": {},
   "source": [
    "## Other References\n",
    "- [Sail Performance](https://www.amazon.com/Sail-Performance-Techniques-Maximize-Power/dp/0070402507)"
   ]
  },
  {
   "cell_type": "markdown",
   "metadata": {},
   "source": [
    "## Road Map\n",
    "1. Fluid Flow Equations\n",
    "2. Mathematical Behavior of the Equations\n",
    "3. Basic discretization of the Equations\n",
    "4. Finite difference, Finite Volume\n",
    "5. Transforms and Grid Generation\n",
    "6. Popular Techniques\n",
    "7. Detailed Worked Examples\n",
    "    - Viscous flow x2"
   ]
  },
  {
   "cell_type": "markdown",
   "metadata": {},
   "source": [
    "# Chapter 2\n",
    "\n",
    "## 2.1 Basics\n",
    "1. Mass is conserved\n",
    "2. Newton's second law, F = ma\n",
    "3. Energy is conserved\n",
    "\n",
    "## 2.2 Models of Flow\n",
    "\n",
    "### 2.2.1 Finite Control Volume\n",
    "\n",
    "\"Large\", finite volume containing many particles either fixed in space with fluid moving through it or fixed to the fluid with the same particles contained in it.\n",
    "\n",
    "Apply physics constraints to the fluid contained in the volume and to fluid crossing the surface. This allows one to limit the consideration to just the control volume as opposed to the entire fluid. Fluid equations are \"direct\" and \"integral\" form. The integral forms are manipulated to *indirectly* get to partial differential equations. The control volume fixed in space are the *conservation* form.\n",
    "\n",
    "### 2.2.2 Infinitesimal Fluid Element\n",
    "\n",
    "\"Small\" volume (cube?) with fluid passing through it or fixed to fluid and moving along a given streamline\n",
    "\n",
    "This leads directly to the partial differential equations formulation.\n",
    "\n",
    "## 2.3 Substantial Derivative\n",
    "\n",
    "The \"substantial\" derivative of density for a small volume following a velocity flow between two fixed times is:\n",
    "\n",
    "For this section, p is rho, is density instead of pressure\n",
    "\n",
    "Dp / Dt = (dp/dx) * (x2 - x1)/(t2 - t1) + (dp/dy) * (y2 - y1)/(t2 - t1) + (dp/dz) * (z2 - z1)/(t2 - t1) + (dp/dt)\n",
    "\n",
    "In the limit, (x2 - x1)/(t2 - t1) etc. are velocities in u, v, w (x, y, z respectively)\n",
    "\n",
    "Dp / Dt = u * (dp/dx) + v * (dp/dy) + w * (dp/dz) + (dp/dt)\n",
    "\n",
    "dp / dt is the derivative of density at a fixed point w.r.t. time\n",
    "\n",
    "This notation can be applied to any fluid property, for example: density, static pressure, static? temperature, velocities in a particular direction (I think)\n",
    "\n",
    "## 2.4 Divergence of Velocity\n",
    "\n",
    "Physical meaning: The time rate of change of the volume of a moving fluid element per unit volume, derived for a small uniform volume containing a fixed number of fluid particles. Math written as \n",
    "\n",
    "(upside down Delta) dot V = (1 / dV) (D(dV) / Dt)\n",
    "\n",
    "Where (upside down Delta) is the vector operator, V is the volume, dV is the infinitesmal volume, D/Dt is the substantial derivative\n",
    "\n",
    "## 2.5 Continuity Equation\n",
    "\n",
    "Applied to the physical principle: Mass is conserved.\n",
    "\n",
    "Net Mass Flow out of control volume = B\n",
    "\n",
    "Time Rate of decrease of mass in control volume = C\n",
    "\n",
    "$$B = C$$\n",
    "\n",
    "### 2.5.1 Derivation for Fixed Finite Control Volume\n",
    "\n",
    "aka \"large\" control volume not moving with flow, conservative integral form\n",
    "\n",
    "$\\mathbf{V}$ = flow velocity, $\\mathbf{dS}$ = vector elemental surface area, $d\\mathscr{V}$ = elemental volume inside control volume\n",
    "\n",
    "$$B = \\iint_{S} \\rho \\mathbf{V} \\cdot \\mathbf{dS}$$\n",
    "\n",
    "$$- \\frac{\\partial}{\\partial t} \\iiint_{\\mathscr{V}} \\rho d \\mathscr{V} = C$$\n",
    "\n",
    "Combining the two:\n",
    "\n",
    "$$- \\frac{\\partial}{\\partial t} \\iiint_{\\mathscr{V}} \\rho d \\mathscr{V} = C = B = \\iint_{S} \\rho \\mathbf{V} \\cdot \\mathbf{dS}$$\n",
    "\n",
    "$$\\frac{\\partial}{\\partial t} \\iiint_{\\mathscr{V}} \\rho d \\mathscr{V} + \\iint_{S} \\rho \\mathbf{V} \\cdot \\mathbf{dS} = 0$$\n",
    "\n",
    "Derivative of volume times density w.r.t. time + mass moving out through volume surface = 0\n",
    "\n",
    "aka conservation of mass 🙂\n",
    "\n",
    "### 2.5.5 They're all the same!\n",
    "\n",
    "It talks through different methods, but I like 2.5.1 for now\n",
    "\n",
    "### 2.5.6 Mathematical note\n",
    "\n",
    "The PDE models assume that the flow is differentiable, while the integral ones make no assumptions about flow within the volumes, making the integral one more \"fundamental\" and better able to handle real discontinuities, such as shock waves."
   ]
  },
  {
   "cell_type": "code",
   "execution_count": 8,
   "metadata": {},
   "outputs": [
    {
     "data": {
      "text/latex": [
       "$$A_{s} = B_{z}$$"
      ],
      "text/plain": [
       "<IPython.core.display.Latex object>"
      ]
     },
     "metadata": {},
     "output_type": "display_data"
    }
   ],
   "source": [
    "%%latex\n",
    "$$A_{s} = B_{z}$$"
   ]
  },
  {
   "cell_type": "markdown",
   "metadata": {},
   "source": [
    "## Chapter 2 Thoughts\n",
    "\n",
    "I'm going to make assumptions:\n",
    "- Constant density (incompressible fluid?)\n",
    "- Constant temperature"
   ]
  },
  {
   "cell_type": "code",
   "execution_count": 9,
   "metadata": {},
   "outputs": [
    {
     "name": "stdout",
     "output_type": "stream",
     "text": [
      "Hello World\n"
     ]
    }
   ],
   "source": [
    "print('Hello World')"
   ]
  },
  {
   "cell_type": "markdown",
   "metadata": {},
   "source": [
    "## 2.6 Momentum Equation\n",
    "\n",
    "In the text, this is derived for the moving fluid element model. I'm also going to derive it for the fixed control volume model.\n",
    "\n",
    "$$\\mathbf{F} = m \\mathbf{a}$$\n",
    "\n",
    "This is a vector relation, so can be considered along each axis independently.\n",
    "\n",
    "2 types of forces:\n",
    "1. Body force (gravity, electric, magnetic)\n",
    "2. Surface forces\n",
    "    - Pressure distribution from surrounding fluid acting on the surface (perpendicular to surface)\n",
    "    - Viscous Forces: Shear and normal stress distributions acting on the surface imposed by the outside fluid tugging or pushing by friction\n",
    "    \n",
    "Body force on fluid element in x direction = $\\rho f_{x}(dx, dy, dz)$\n",
    "\n",
    "Where $\\rho$ is density, $f_{x}$ is force per unit mass, and $(dx, dy, dz)$ is the volume of the small mass considered in the derivation.\n",
    "\n",
    "The shear and normal stresses are related to the time rate of change of the deformation of the fluid element. Shear stress along a surface warps the small volume into a trapezoid, normal stress leads to elongation (in the positive direction) of that small volume. Both depend on velocity gradients in the flow. In most viscous flows, normal stress is smaller than shear stress and is neglected. Normal stress is very important when the normal velocity gradient is large (e.g. inside a shock wave).\n",
    "\n",
    "Convention: $\\tau_{ij}$ = stress in the $j$ direction acting on a surface perpendicular to the $i$ direction.\n",
    "\n",
    "Note to self: This will get interesting if/when I'm using hyperplanes that aren't cartesian.\n",
    "\n",
    "Combining forces:\n",
    "\n",
    "$$\\mathbf{F}_{x} = [-\\frac{\\partial p}{\\partial x} + \\frac{\\partial \\tau_{xx}}{\\partial x} + \\frac{\\partial \\tau_{yx}}{\\partial y} + \\frac{\\partial \\tau_{zx}}{\\partial z}](dx \\cdot dy \\cdot dz) + \\rho f_{x}(dx \\cdot dy \\cdot dz)$$\n",
    "\n",
    "$F_{x}$ = \\[pressure force + normal stress + y-shear stress + z-shear stress\\](across the small volume) + body forces = left hand side of F=ma\n",
    "\n",
    "$m$ = $\\rho (dx \\cdot dy \\cdot dz)$\n",
    "\n",
    "$\\mathbf{a}$ = change in x velocity $u$\n",
    "\n",
    "For a moving small body, use the substantial derivative here, so\n",
    "\n",
    "$$\\mathbf{a} = \\frac{D u}{D t}$$\n",
    "\n",
    "Bringing everything back together:\n",
    "\n",
    "$$-\\frac{\\partial p}{\\partial x} + \\frac{\\partial \\tau_{xx}}{\\partial x} + \\frac{\\partial \\tau_{yx}}{\\partial y} + \\frac{\\partial \\tau_{zx}}{\\partial z} + \\rho f_{x} = \\rho \\frac{D u}{D t}$$\n",
    "\n",
    "Which is the x component of the momentum equation for viscous flow on a moving small element. Y and Z versions:\n",
    "\n",
    "- $$-\\frac{\\partial p}{\\partial y} + \\frac{\\partial \\tau_{xy}}{\\partial x} + \\frac{\\partial \\tau_{yy}}{\\partial y} + \\frac{\\partial \\tau_{zy}}{\\partial z} + \\rho f_{y} = \\rho \\frac{D v}{D t}$$\n",
    "- $$-\\frac{\\partial p}{\\partial z} + \\frac{\\partial \\tau_{xz}}{\\partial x} + \\frac{\\partial \\tau_{yz}}{\\partial y} + \\frac{\\partial \\tau_{zz}}{\\partial z} + \\rho f_{z} = \\rho \\frac{D w}{D t}$$\n",
    "\n",
    "With some manipulation, we get the canonical form of Navier Stokes equations."
   ]
  },
  {
   "cell_type": "markdown",
   "metadata": {},
   "source": [
    "### 2.6 My Derivation\n",
    "\n",
    "aka the fixed control volume model.\n",
    "\n",
    "$$\\mathbf{F} = m \\mathbf{a}$$\n",
    "\n",
    "This is a vector relation, so can be considered along each axis independently (starting with $x$)\n",
    "\n",
    "$$F_{x} = m a_{x}$$\n",
    "\n",
    "#### Body Forces\n",
    "\n",
    "$$\\iiint_{\\mathscr{V}} \\rho f_{x} d \\mathscr{V}$$\n",
    "\n",
    "(assuming that the only body force is gravity, so the unit body force $f_{x}$ is constant across the volume)\n",
    "\n",
    "$$\\rho f_{x} \\mathscr{V}$$\n",
    "\n",
    "#### Surface Forces\n",
    "\n",
    "For some small vector surface $d \\mathbf{S}$, there are forces parallel to $d \\mathbf{S}$ and perpendicular to $d \\mathbf{S}$. For normal forces (parallel to surface vector) caused by velocity gradients $\\tau_{ss}$, their x component is: \n",
    "\n",
    "$$\\tau_{sx} = \\tau_{ss} (d \\mathbf{S} \\cdot i)$$ where $i$ is the unit vector parallel to the x axis.\n",
    "\n",
    "For the general case of shear forces, there is a set of vectors perpendicular to $d \\mathbf{S}$, so for all $\\tau_{s \\bot}$ perpendicular to $d \\mathbf{S}$, the x component is:\n",
    "\n",
    "$$\\tau_{sx} = \\sum_{\\bot} \\tau_{s \\bot} (\\vec{\\bot} \\cdot i)$$ where $i$ is the unit vector parallel to the x axis. This can probably be simplified down to considering the summed x, y and z components of the shear forces, which is implicitly jumping to $\\tau_{sx}$.\n",
    "\n",
    "#### Pressure Forces\n",
    "\n",
    "For some pressure gradient $\\delta p$ along $d \\mathbf{S}$, the force is:\n",
    "\n",
    "$$- \\iint_{S} \\frac{\\delta p}{\\delta S} d \\mathbf{S}$$\n",
    "\n",
    "For the x component:\n",
    "\n",
    "$$- \\iint_{S} \\frac{\\delta p}{\\delta x} (d \\mathbf{S} \\cdot i)$$\n",
    "\n",
    "Assuming the pressure is approximately constant across the surface, (e.g. not a large change in height or otherwise) the pressure force in x from each surface is:\n",
    "\n",
    "$$- \\frac{\\delta p}{\\delta x} (\\vec{S} \\cdot i)$$\n",
    "\n",
    "#### Mass\n",
    "\n",
    "$$\\iiint_{\\mathscr{V}} \\rho \\delta V$$\n",
    "\n",
    "#### Acceleration\n",
    "\n",
    "For an internal flow velocity $u$ in the x direction (note lack of substantial derivative):\n",
    "\n",
    "$$a_{x} = \\frac{\\delta u}{\\delta t}$$"
   ]
  },
  {
   "cell_type": "markdown",
   "metadata": {},
   "source": [
    "## 2.7 The Energy Equation\n",
    "\n",
    "### My worked version\n",
    "\n",
    "Rate of change of energy inside fluid element = (net flux of heat in + rate of work done on element due to body and surface forces)\n",
    "\n",
    "$$A = (B + C)$$\n",
    "\n",
    "Note to self: If the element isn't moving, the work done on the element is 0, and I'm assuming no heat flux because no delta in temperature, so the rate of change of the energy inside the fluid element is 0.\n",
    "\n",
    "For component C, 2 elements:\n",
    "Work done by body forces: $\\rho f_{x} \\cdot \\mathbf{V}(dx, dy, dz)$\n",
    "\n",
    "With the fluid element moving at a velocity $\\mathbf{V}$\n",
    "\n",
    "The other component is work done by shear/normal forces which is big and messy and every term has a component of velocity of the control volume, which I'm fixing to 0, so it goes to zero as well.\n",
    "\n",
    "B = 0 because I'm assuming no heat transfer\n",
    "\n",
    "The A has two components:\n",
    "1. Random molecular motion (rotation, translation, vibration) $e$ per unit mass\n",
    "2. Kinetic energy due to translational movement of the fluid element $\\frac{V^{2}}{2}$ per unit mass\n",
    "\n",
    "For a fixed control volume, the time rate of change of the total energy per unit mass is the usual derivative (not substantial). The mass is $\\iiint_{\\mathscr{V}} \\rho \\delta \\mathscr{V}$ we get:\n",
    "\n",
    "$$A = \\frac{\\delta}{\\delta t} \\left( e + \\frac{V^{2}}{2} \\right) \\iiint_{\\mathscr{V}} \\rho \\delta \\mathscr{V} $$\n",
    "\n",
    "If I make the simplifying assumption that the internal energy $e$ doesn't change significantly over time ($\\frac{\\delta e}{\\delta t} = 0$):\n",
    "\n",
    "$$A = \\frac{\\delta}{\\delta t} \\left(\\frac{V^{2}}{2} \\right) \\iiint_{\\mathscr{V}} \\rho \\delta \\mathscr{V} $$\n",
    "\n",
    "Which would seem to suggest that $\\frac{\\delta}{\\delta t} \\frac{V^{2}}{2} = 0$ and $\\frac{\\delta}{\\delta t} V^{2} = 0$ and $\\frac{\\delta}{\\delta t} V = 0$. Except that there is some fluid flow in and out, so that the energy changes due to some fluid flowing in with energy per unit mass $\\frac{V_{in}^{2}}{2}$ for the mass influx and $\\frac{V_{out}^{2}}{2}$ for the mass outbound. There is no work done on the cell, but forces move mass around?"
   ]
  },
  {
   "cell_type": "markdown",
   "metadata": {},
   "source": [
    "## 2.8 Summary of Equations\n",
    "\n",
    "### 2.8.2 Euler Equations\n",
    "aka drop the friction and thermal conduction terms :)\n",
    "\n",
    "#### Continuity Equation\n",
    "\n",
    "Conservative form:\n",
    "\n",
    "$$\\frac{\\partial p}{\\partial t} + \\nabla \\cdot (\\rho \\mathbf{V}) = 0$$\n",
    "\n",
    "#### Momentum Equation\n",
    "\n",
    "Conservative form, x component:\n",
    "\n",
    "$$\\frac{\\partial (\\rho u)}{\\partial t} + \\nabla \\cdot (\\rho u \\mathbf{V}) = -\\frac{\\partial p}{\\partial x} + \\rho f_{x}$$\n",
    "\n",
    "#### Energy Equation\n",
    "\n",
    "Conservation form:\n",
    "\n",
    "$$\\frac{\\partial }{\\partial t} \\left[ \\rho \\left( e + \\frac{V^{2}}{2} \\right) \\right] + \\nabla \\cdot \\left[ \\rho \\left( e + \\frac{V^{2}}{2} \\right) \\mathbf{V} \\right] =$$\n",
    "\n",
    "$$ \\rho \\dot{q} - \\frac{\\partial (up)}{\\partial x} - \\frac{\\partial (vp)}{\\partial y} - \\frac{\\partial (wp)}{\\partial z} + \\rho f \\cdot \\mathbf{V}$$"
   ]
  },
  {
   "cell_type": "markdown",
   "metadata": {},
   "source": [
    "## 2.9 Boundary Conditions\n",
    "\n",
    "For viscous flow, there is a no-slip condition at the surface:\n",
    "\n",
    "$$u = v = w = 0$$\n",
    "\n",
    "For inviscid flow, the \"no slip\" condition is replaced by non-tangent flow, aka the fluid can't flow into or out of the wall, and can only flow tangentially.\n",
    "\n",
    "For a body in a free stream, the boundary conditions sufficiently far away from the object are the velocity/pressure/etc. of the freestream."
   ]
  },
  {
   "cell_type": "markdown",
   "metadata": {},
   "source": [
    "## 2.10 Considerations for CFD\n",
    "\n",
    "Conservative forms can be written as matrix math. This math gives the derivative for the particular components at that point in time, which can be used to step through time to either get unsteady solution information or to get a steady state solution by \"marching\" through time until the solution settles down.\n",
    "\n",
    "Inviscid flow has simpler column vectors.\n",
    "\n",
    "Marching solutions can also march through space, but I'm interested in time.\n",
    "\n",
    "Shock waves can be either \"captured\" and allowed to happen accidentally, with the potential for \"low\" resolution of a handful of grid areas or \"fitted\" where a mathematical shape for a shockwave is placed and then explicit transitions from pre-shock to post shock conditions are solved at that point. These two solutions can be combined, but I don't anticipate having any, so I'm going to stick to a \"capture\" approach. For a shock capturing method, a conservative approach should be used.\n",
    "\n",
    "This does impress upon me that, to increase the resolution of potential shock waves or similar effects, the difference in boundary conditions indicating that a shock occured can be subdivided parallel to the shock effect to get a greater resolution for its exact position in space.\n",
    "\n",
    "I like my conservative methods :)"
   ]
  },
  {
   "cell_type": "markdown",
   "metadata": {},
   "source": [
    "Note to self: Stopping here for now, resume on page 76 of the pdf/pg. 125 of the text"
   ]
  },
  {
   "cell_type": "code",
   "execution_count": null,
   "metadata": {},
   "outputs": [],
   "source": []
  }
 ],
 "metadata": {
  "kernelspec": {
   "display_name": "Python 3",
   "language": "python",
   "name": "python3"
  },
  "language_info": {
   "codemirror_mode": {
    "name": "ipython",
    "version": 3
   },
   "file_extension": ".py",
   "mimetype": "text/x-python",
   "name": "python",
   "nbconvert_exporter": "python",
   "pygments_lexer": "ipython3",
   "version": "3.7.0"
  }
 },
 "nbformat": 4,
 "nbformat_minor": 2
}
