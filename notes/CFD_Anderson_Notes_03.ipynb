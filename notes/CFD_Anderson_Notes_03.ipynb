{
 "cells": [
  {
   "cell_type": "markdown",
   "metadata": {},
   "source": [
    "# Notes for Computational Fluid Dynamics\n",
    "The Basics with Applications by John D. Anderson Jr.\n",
    "\n",
    "Chapter 6\n",
    "\n",
    "From my last guidepost, I think I'm going to want to work through Sections 6.3 and 7.1 - 7.4 for an interesting problem to take down notes (and possibly build an integration test case)."
   ]
  },
  {
   "cell_type": "markdown",
   "metadata": {},
   "source": [
    "# Chapter 6 Intro to CFD Techniques"
   ]
  },
  {
   "cell_type": "markdown",
   "metadata": {},
   "source": [
    "## 6.1 Introduction\n",
    "\n",
    "If you're looking for advanced references to survey modern CFD techniques, the author recommends **further reading** of References 13-18. For simplicity they consider 2D flows with calorifically perfect gases (nice fluids :) )\n",
    "\n",
    "Notes from roadmap:\n",
    "\n",
    "Some artificial viscosity can be added to increase stability of the ending solution.\n",
    "\n",
    "Techniques:\n",
    "- Time-marching solutions, esp. hyperbolic\n",
    "    - Lax-Wendroff\n",
    "    - MacCormack\n",
    "- Time-marching solutions, esp. parabolic\n",
    "    - Crank-Nicolson\n",
    "- Elliptic equations\n",
    "    - Relaxation technique\n",
    "- Time-marching solutions, hypberbolic and parabolic techniques\n",
    "    - ADI technique\n",
    "- Elliptic, parabolic and hyperbolic equations\n",
    "    - Pressure correction technique"
   ]
  },
  {
   "cell_type": "markdown",
   "metadata": {},
   "source": [
    "#### I'm thinking ahead to something silly\n",
    "\n",
    "Where can I throw in my probabilistic techniques to estimate error? Do I go markov model and add in small random noise during solutions and find the solution that is stable given this random noise added to it? In effect this is trying to randomly break out of local optima that aren't that deep/stable in the final solution. I might miss an special case solution (if I were designing flying boats that could live in that special case solution) but instead I'm more looking for the general case behavior of a hull at a certain speed. Find the general solution in the face of small chaos theory ;)\n",
    "\n",
    "Based on all the functions, there's not too much reason why, given some symbolic derivative nice-ness, I could Kalman filter the properties instead of just estimating the mean to understand the error bound around my solution. This doesn't add two much beyond observing the noise in the steady state or over time, but could lead to some nice visualization. It a little bit gets into a pseudo implicit solution to the problem"
   ]
  },
  {
   "cell_type": "markdown",
   "metadata": {},
   "source": [
    "#### Note to self\n",
    "\n",
    "You've forgotten your math. What are hyperbolic, elliptic or parabolic solutions to pde?"
   ]
  },
  {
   "cell_type": "code",
   "execution_count": null,
   "metadata": {},
   "outputs": [],
   "source": []
  }
 ],
 "metadata": {
  "kernelspec": {
   "display_name": "Python 3",
   "language": "python",
   "name": "python3"
  },
  "language_info": {
   "codemirror_mode": {
    "name": "ipython",
    "version": 3
   },
   "file_extension": ".py",
   "mimetype": "text/x-python",
   "name": "python",
   "nbconvert_exporter": "python",
   "pygments_lexer": "ipython3",
   "version": "3.7.0"
  }
 },
 "nbformat": 4,
 "nbformat_minor": 2
}
