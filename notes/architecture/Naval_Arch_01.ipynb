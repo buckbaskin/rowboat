{
 "cells": [
  {
   "cell_type": "markdown",
   "metadata": {},
   "source": [
    "# Introduction to Naval Architecture\n",
    "4th Ed.\n",
    "By E.C. Tupper\n",
    "\n",
    "## Key Topics\n",
    "\n",
    "2. High Level Ship Design considerations\n",
    "4. Ship form calculations?\n",
    "5. Flotation and Initial Stability\n",
    "6. External Factors\n",
    "7. Stability at Large Angles\n",
    "8. Ship operational considerations (launching, etc)\n",
    "9. Resistance\n",
    "    - Fluid Flow\n",
    "    - Types of Resistance\n",
    "    - Calculation of Resistance\n",
    "    - Methodical series?\n",
    "    - Roughness\n",
    "    - Form parameters? and resistance\n",
    "    - Model Experiments\n",
    "    - Full Scale Trials\n",
    "    - Effective Power?\n",
    "10. Propulsion\n",
    "11. Ship Dynamics\n",
    "12. Seakeeping\n",
    "13. Manoeuvering considerations\n",
    "14. Hull Strength\n",
    "15. Strength of Structural components\n",
    "16. other Internal factors\n",
    "17. Ship Types"
   ]
  },
  {
   "cell_type": "markdown",
   "metadata": {},
   "source": [
    "## Introduction\n",
    "\n",
    "Computers enable calculations that were previously infeasible, e.g. ship motion predictions and finite element analysis for structure as well as more general design optimization"
   ]
  },
  {
   "cell_type": "markdown",
   "metadata": {},
   "source": [
    "## Ship Design\n",
    "\n",
    "In the usual process, there are no prototypes so many considerations must be addressed early. I can build prototypes, so it is less important to get the design perfect the first time.\n",
    "\n",
    "### General Design Attributes\n",
    "\n",
    "- Capacity and size\n",
    "- Speed\n",
    "    - Higher speeds increase the effects of wavemaking resistance\n",
    "    - Lower speeds increase the relative effects of frictional resistance\n",
    "- Seakeeping: \"behavior of the ship in response to waves\"\n",
    "    - in motions e.g. pitch, roll, heave\n",
    "    - wetness?\n",
    "    - slamming\n",
    "    - any required speed reductions\n",
    "- Manoeuverability\n",
    "\n",
    "The architect will:\n",
    "\n",
    "- Calculate areas and volumes of the design\n",
    "- Establish drafts? at which the ship will float and how its draughts change with loading\n",
    "- Study the stability of the vessel\n",
    "- Determine power (sail? ;) ) needed\n",
    "- Design the ship for its intended environment\n",
    "- Ensure the ship is of adequate strength\n",
    "- Provide adequate means for maneuvering the ship"
   ]
  },
  {
   "cell_type": "markdown",
   "metadata": {},
   "source": [
    "## Definitions\n",
    "\n",
    "These are some helpful elements that may be useful to generate programatically\n",
    "\n",
    "- \"length between perpendiculars\": Distance from the rudder post (aft perpendicular) to where the water meets the bow (fore perpendicular)\n",
    "- \"draught\": Distance from keel to the waterline. This varies across the design fore and aft and changes based on loading. \n",
    "- \"the waterplane\": The horizontal plane at the designed water level\n",
    "- length on the waterline, aka $L_{WL}$ is the distance between the first and last points of the boat touching the water (either observed or designed)\n",
    "\n",
    "- \"lines plan\" or \"sheer plan\": Side view, where the profile of each meter from centerline is drawn and labelled\n",
    "- \"body plan\": Front on view of transverse planes. The aft is on the left going to midships, then midships to bow is on the right\n",
    "- displacement: $\\Delta = \\rho g V$ where $\\rho$ is water density, $g$ is gravity and $V$ is the (designed) underwater volume (\"displacement volume\"). The end unit is Newtons\n",
    "\n",
    "### Measures of Fineness, Hull Characteristics\n",
    "\n",
    "- block coefficient $C_{B} = \\frac{V}{L_{pp} BT}$ where $V$ is as above, $L_{pp}$ is length between perpendiculars, $B$ is extreme breadth underwater and $T$ is the mean draught\n",
    "- Coefficient of Fineness of Waterplane $C_{WP} = \\frac{A_{W}}{L_{WL} B}$ where $A_{W}$ is the waterplane area, $L_{WL}$ is the waterline length and $B$ is again the extreme breadth of the waterline\n",
    "- Midship Section Coefficient $C_{M} = \\frac{A_{M}}{B T}$. $B$ and $T$ as above, except B is measured amidships\n",
    "- Longitudinal Prismatic Coefficient $C_{P} = \\frac{V}{A_{M} L_{PP}}$\n",
    "- Vertical Prismatic Coefficient $C_{VP} = \\frac{V}{A_{W} T}$\n",
    "\n",
    "Note:\n",
    "1. $C_{M} C_{P} = C_{B}$\n",
    "2. Low values typically indicate a V shaped hull \n",
    "\n",
    "Example values for a \"yacht\":\n",
    "- $C_{B} = 0.15$\n",
    "- $C_{M} = 0.30$\n",
    "- $C_{P} = 0.50$"
   ]
  },
  {
   "cell_type": "markdown",
   "metadata": {},
   "source": [
    "## Ship Form Calculations\n",
    "\n",
    "To estimate the initial volumes, trapezoidal rule or other numerical methods for integrations are used because hull shapes are typically too complex to represent mathematically. Typically ships are fit using Simpson's Rules where a 3rd degree polynomial is used.\n",
    "\n",
    "One can also use polar coordinates where helpful, but the integration requires a little more thought.\n",
    "\n",
    "*My thought*: Use a computer!"
   ]
  },
  {
   "cell_type": "markdown",
   "metadata": {},
   "source": [
    "## Flotation and Initial Stability\n",
    "\n",
    "Bouyancy forces act vertically and horizontally to counteract gravity. Horizontal components cancel out in the static case. The gravitational force is considered to act at the center of mass. The buoyant forces act at the center of buoyancy. These can be determined by the computer with some handy integration.\n",
    "\n",
    "### Stability at small angles\n",
    "\n",
    "The ship's body is rolled. Center of mass doesn't change relative to the solid body (in the rigid body case). The underwater shape changes, shifting the center of buoyancy. The \"metacenter\" is where the new line of buoyant force action intersects the original line of action. This is generally above the center of gravity or the hull design is unstable. The righting lever arm that keeps the ship stable is measured as the weight of the ship cross the horizontal distance between the center of mass and the center of buoyancy. Conceptually, the weight of the boat rolls around its center of bouyancy.\n",
    "\n",
    "These calculations can be calculated in closed form for simple geometries. I like my integrals.\n",
    "\n",
    "This could also be applied pitching the design fore and aft. Ships tend to be longer than they are wide, so they tend to be stable longitudinally.\n",
    "\n",
    "**Visualization**: Conventionally, these calculations are done for many waterplanes/loading weights around the designed on to show stability in a variety of conditions. These are drawn in a continuing range to show stability curves based on loading (e.g. one could draw a lever arm calculation calculated for different degrees of roll and load).\n",
    "\n",
    "**Visualization**: The longitudinal and transverse center of gravity against the profile and amidships planes.\n",
    "\n",
    "**Future Reading**: Stability. A more detailed discussion on stability, with both worked and set examples, is to be found in Derrett and Barrass (1999)."
   ]
  },
  {
   "cell_type": "markdown",
   "metadata": {},
   "source": [
    "## External Effects\n",
    "\n",
    "### Wind\n",
    "\n",
    "### Waves\n",
    "\n",
    "Waves are a sum of regular waves with varying periods. There are more complicated wave models, but I like sin waves. \n",
    "**Future Reading**: For more information on wave shapes and modeling, refer to a \"standard text\" on hydrodynamics.\n",
    "\n",
    "Irregular waves can be decomposed by a Fourier transform and real waves probably have a smooth energy-frequency graph (Energy Spectrum). Waves also travel at different speeds."
   ]
  },
  {
   "cell_type": "markdown",
   "metadata": {},
   "source": [
    "Next time start with Chapter 7."
   ]
  },
  {
   "cell_type": "code",
   "execution_count": null,
   "metadata": {},
   "outputs": [],
   "source": []
  }
 ],
 "metadata": {
  "kernelspec": {
   "display_name": "Python 3",
   "language": "python",
   "name": "python3"
  },
  "language_info": {
   "codemirror_mode": {
    "name": "ipython",
    "version": 3
   },
   "file_extension": ".py",
   "mimetype": "text/x-python",
   "name": "python",
   "nbconvert_exporter": "python",
   "pygments_lexer": "ipython3",
   "version": "3.7.0"
  }
 },
 "nbformat": 4,
 "nbformat_minor": 2
}
